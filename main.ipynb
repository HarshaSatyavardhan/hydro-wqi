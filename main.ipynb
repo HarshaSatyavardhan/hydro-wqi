{
 "cells": [
  {
   "cell_type": "code",
   "execution_count": 1,
   "metadata": {},
   "outputs": [
    {
     "data": {
      "text/plain": [
       "(   Year     Month DO (mg/L)    pH Conductivity (uS/cm)  BOD Nitrates  \\\n",
       " 0  2015   January       7.3  7.97                  821  0.6     0.42   \n",
       " 1  2015  Febraury       7.1  7.54                  892  0.7     0.52   \n",
       " 2  2015     March       7.2  7.32                  912  1.4     0.58   \n",
       " 3  2015     April       7.8  7.92                  943  1.8     0.62   \n",
       " 4  2015       May       7.5  7.28                  896  1.8     0.56   \n",
       " \n",
       "   Turbidity  TDS Fluoride  \n",
       " 0         5  535     0.25  \n",
       " 1         6  580     0.02  \n",
       " 2         5  757     0.91  \n",
       " 3         8  592      1.4  \n",
       " 4         6  542     1.28  ,\n",
       "   water quality parametrs  measured values  ideal values  standard values\n",
       " 0            conductivity            350.0             0            300.0\n",
       " 1                     bod              4.0             8              6.0\n",
       " 2                     tds            334.0             0            500.0\n",
       " 3                nitrades             47.0             0             45.0\n",
       " 4               fluorides             10.2             0              1.0)"
      ]
     },
     "execution_count": 1,
     "metadata": {},
     "output_type": "execute_result"
    }
   ],
   "source": [
    "import pandas as pd\n",
    "\n",
    "# Read the hydro data\n",
    "hydro_data_path = 'hydro - data.csv'\n",
    "hydro_data_df = pd.read_csv(hydro_data_path)\n",
    "\n",
    "# Read the water quality parameters data\n",
    "water_quality_parameters_path = 'hydro - water_quality_parameters.csv'\n",
    "water_quality_parameters_df = pd.read_csv(water_quality_parameters_path)\n",
    "\n",
    "# Show the first few rows of each DataFrame\n",
    "hydro_data_df.head(), water_quality_parameters_df.head()\n"
   ]
  },
  {
   "cell_type": "code",
   "execution_count": 2,
   "metadata": {},
   "outputs": [
    {
     "data": {
      "text/plain": [
       "Year                    0\n",
       "Month                   0\n",
       "DO (mg/L)               5\n",
       "pH                      5\n",
       "Conductivity (uS/cm)    5\n",
       "BOD                     5\n",
       "Nitrates                5\n",
       "Turbidity               5\n",
       "TDS                     5\n",
       "Fluoride                5\n",
       "dtype: int64"
      ]
     },
     "execution_count": 2,
     "metadata": {},
     "output_type": "execute_result"
    }
   ],
   "source": [
    "# We need to handle the missing (NaN) values and convert columns to appropriate numerical types for further processing.\n",
    "\n",
    "# Convert all relevant columns to numeric, coercing errors to NaNs\n",
    "columns_to_convert = ['DO (mg/L)', 'pH', 'Conductivity (uS/cm)', 'BOD', 'Nitrates', 'Turbidity', 'TDS', 'Fluoride']\n",
    "hydro_data_df[columns_to_convert] = hydro_data_df[columns_to_convert].apply(pd.to_numeric, errors='coerce')\n",
    "\n",
    "# Check for missing values\n",
    "missing_values = hydro_data_df.isnull().sum()\n",
    "missing_values\n"
   ]
  },
  {
   "cell_type": "code",
   "execution_count": 3,
   "metadata": {},
   "outputs": [
    {
     "data": {
      "text/plain": [
       "Year                    0\n",
       "Month                   0\n",
       "DO (mg/L)               0\n",
       "pH                      0\n",
       "Conductivity (uS/cm)    0\n",
       "BOD                     0\n",
       "Nitrates                0\n",
       "Turbidity               0\n",
       "TDS                     0\n",
       "Fluoride                0\n",
       "dtype: int64"
      ]
     },
     "execution_count": 3,
     "metadata": {},
     "output_type": "execute_result"
    }
   ],
   "source": [
    "# To handle missing values, we can use simple imputation methods like mean imputation.\n",
    "from sklearn.impute import SimpleImputer\n",
    "\n",
    "# Initialize imputer\n",
    "imputer = SimpleImputer(strategy='mean')\n",
    "\n",
    "# Apply imputation\n",
    "hydro_data_df[columns_to_convert] = imputer.fit_transform(hydro_data_df[columns_to_convert])\n",
    "\n",
    "# Verify that there are no more missing values\n",
    "hydro_data_df.isnull().sum()\n"
   ]
  },
  {
   "cell_type": "code",
   "execution_count": 4,
   "metadata": {},
   "outputs": [
    {
     "data": {
      "text/plain": [
       "(water quality parametrs    0\n",
       " measured values            0\n",
       " ideal values               0\n",
       " standard values            0\n",
       " dtype: int64,\n",
       " water quality parametrs     object\n",
       " measured values            float64\n",
       " ideal values                 int64\n",
       " standard values            float64\n",
       " dtype: object)"
      ]
     },
     "execution_count": 4,
     "metadata": {},
     "output_type": "execute_result"
    }
   ],
   "source": [
    "\n",
    "water_quality_parameters_df.isnull().sum(), water_quality_parameters_df.dtypes\n"
   ]
  },
  {
   "cell_type": "code",
   "execution_count": 5,
   "metadata": {},
   "outputs": [
    {
     "data": {
      "text/plain": [
       "('preprocessed_hydro_data.csv', 'preprocessed_water_quality_parameters.csv')"
      ]
     },
     "execution_count": 5,
     "metadata": {},
     "output_type": "execute_result"
    }
   ],
   "source": [
    "\n",
    "# Save the preprocessed hydro data\n",
    "preprocessed_hydro_data_path = 'preprocessed_hydro_data.csv'\n",
    "hydro_data_df.to_csv(preprocessed_hydro_data_path, index=False)\n",
    "\n",
    "# Save the water quality parameters data\n",
    "preprocessed_water_quality_parameters_path = 'preprocessed_water_quality_parameters.csv'\n",
    "water_quality_parameters_df.to_csv(preprocessed_water_quality_parameters_path, index=False)\n",
    "\n",
    "preprocessed_hydro_data_path, preprocessed_water_quality_parameters_path\n"
   ]
  },
  {
   "cell_type": "code",
   "execution_count": null,
   "metadata": {},
   "outputs": [],
   "source": []
  },
  {
   "cell_type": "code",
   "execution_count": null,
   "metadata": {},
   "outputs": [],
   "source": []
  },
  {
   "cell_type": "code",
   "execution_count": 2,
   "metadata": {},
   "outputs": [
    {
     "data": {
      "text/plain": [
       "763.3166666666666"
      ]
     },
     "execution_count": 2,
     "metadata": {},
     "output_type": "execute_result"
    }
   ],
   "source": [
    "import pandas as pd\n",
    "# This is based on the general formula for WQI calculation\n",
    "water_quality_params = {\n",
    "    'water quality parameters': ['conductivity', 'bod', 'tds', 'nitrates', 'fluorides', 'iron', 'ph', 'turbidity'],\n",
    "    'ideal values': [0, 8, 0, 0, 0, 0, 7, 0]\n",
    "}\n",
    "\n",
    "# Sample data for actual water quality measurements\n",
    "# This is hypothetical data for the purpose of this example\n",
    "wqi_data = {\n",
    "    'conductivity': [350, 400, 380],\n",
    "    'bod': [4, 5, 3],\n",
    "    'tds': [334, 340, 320],\n",
    "    'nitrates': [47, 50, 45],\n",
    "    'fluorides': [10.2, 9.8, 10.1],\n",
    "    'iron': [0.2, 0.1, 0.15],\n",
    "    'ph': [6.2, 6.4, 6.3],\n",
    "    'turbidity': [2, 3, 2.5]\n",
    "}\n",
    "\n",
    "# Convert these dictionaries to DataFrames\n",
    "df_quality_params = pd.DataFrame(water_quality_params)\n",
    "df_wqi = pd.DataFrame(wqi_data)\n",
    "\n",
    "# Function to calculate WQI\n",
    "def calculate_WQI(df_wqi, df_quality_params):\n",
    "    WQI = 0\n",
    "    for index, row in df_quality_params.iterrows():\n",
    "        param = row['water quality parameters']\n",
    "        ideal_value = row['ideal values']\n",
    "        actual_value = df_wqi[param].mean()  # Assuming you're using the mean value for each parameter\n",
    "        WQI += actual_value - ideal_value  # For simplicity, not considering weight and standard values here\n",
    "    return WQI\n",
    "\n",
    "# Calculate WQI using the function\n",
    "WQI_value = calculate_WQI(df_wqi, df_quality_params)\n",
    "WQI_value\n"
   ]
  },
  {
   "cell_type": "code",
   "execution_count": null,
   "metadata": {},
   "outputs": [],
   "source": []
  }
 ],
 "metadata": {
  "kernelspec": {
   "display_name": "Python 3",
   "language": "python",
   "name": "python3"
  },
  "language_info": {
   "codemirror_mode": {
    "name": "ipython",
    "version": 3
   },
   "file_extension": ".py",
   "mimetype": "text/x-python",
   "name": "python",
   "nbconvert_exporter": "python",
   "pygments_lexer": "ipython3",
   "version": "3.8.16"
  }
 },
 "nbformat": 4,
 "nbformat_minor": 2
}
